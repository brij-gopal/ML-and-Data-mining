{
 "cells": [
  {
   "cell_type": "markdown",
   "metadata": {},
   "source": [
    "# Naive Bayes"
   ]
  },
  {
   "cell_type": "markdown",
   "metadata": {},
   "source": [
    "It is a classification technique based on Bayes’ Theorem with an assumption of independence among predictors. In simple terms, a Naive Bayes classifier assumes that the presence of a particular feature in a class is unrelated to the presence of any other feature.\n",
    "\n",
    "For example, a fruit may be considered to be an apple if it is red, round, and about 3 inches in diameter. Even if these features depend on each other or upon the existence of the other features, all of these properties independently contribute to the probability that this fruit is an apple and that is why it is known as ‘Naive’.\n",
    "\n",
    "Naive Bayes model is easy to build and particularly useful for very large data sets. Along with simplicity, Naive Bayes is known to outperform even highly sophisticated classification methods.\n",
    "\n",
    "Naive Bayes is a classification algorithm for binary (two-class) and multi-class classification problems. The technique is easiest to understand when described using binary or categorical input values.\n",
    "\n",
    "It is called naive Bayes because the calculation of the probabilities for each hypothesis are simplified to make their calculation tractable. Rather than attempting to calculate the values of each attribute value P(d1, d2, d3|h), they are assumed to be conditionally independent given the target value and calculated as P(d1|h) * P(d2|H) and so on."
   ]
  },
  {
   "cell_type": "markdown",
   "metadata": {},
   "source": [
    "## Bayes' Theorem\n",
    "Bayes’ Theorem is stated as:\n",
    "\n",
    "P(h|d) = (P(d|h) * P(h)) / P(d)\n",
    "\n",
    "Where\n",
    "\n",
    "###### P(h|d) is the probability of hypothesis h given the data d. This is called the posterior probability.\n",
    "###### P(d|h) is the probability of data d given that the hypothesis h was true.\n",
    "###### P(h) is the probability of hypothesis h being true (regardless of the data). This is called the prior probability of h.\n",
    "###### P(d) is the probability of the data (regardless of the hypothesis)."
   ]
  },
  {
   "cell_type": "markdown",
   "metadata": {},
   "source": [
    "### Useful Libraries"
   ]
  },
  {
   "cell_type": "raw",
   "metadata": {},
   "source": [
    "To load dataset:    import pandas as pd\n",
    "Preprocessing:      from sklearn import preprocessing\n",
    "NB Classifier:      from sklearn.naive_bayes import GaussianNB\n",
    "Train & Test Split: from sklearn.model_selection import train_test_split\n",
    "K-Fold:             from sklearn.model_selection import cross_val_score\n",
    "\n",
    "For Prediction and Evaluation\n",
    "\n",
    "from sklearn.metrics import classification_report,confusion_matrix\n",
    "from sklearn.metrics import accuracy_score\n"
   ]
  },
  {
   "cell_type": "markdown",
   "metadata": {},
   "source": [
    "#### Load Dataset. Use \"bank-data.csv\""
   ]
  },
  {
   "cell_type": "code",
   "execution_count": 266,
   "metadata": {},
   "outputs": [
    {
     "data": {
      "text/html": [
       "<div>\n",
       "<style scoped>\n",
       "    .dataframe tbody tr th:only-of-type {\n",
       "        vertical-align: middle;\n",
       "    }\n",
       "\n",
       "    .dataframe tbody tr th {\n",
       "        vertical-align: top;\n",
       "    }\n",
       "\n",
       "    .dataframe thead th {\n",
       "        text-align: right;\n",
       "    }\n",
       "</style>\n",
       "<table border=\"1\" class=\"dataframe\">\n",
       "  <thead>\n",
       "    <tr style=\"text-align: right;\">\n",
       "      <th></th>\n",
       "      <th>age</th>\n",
       "      <th>sex</th>\n",
       "      <th>region</th>\n",
       "      <th>income</th>\n",
       "      <th>married</th>\n",
       "      <th>children</th>\n",
       "      <th>car</th>\n",
       "      <th>save_act</th>\n",
       "      <th>current_act</th>\n",
       "      <th>mortgage</th>\n",
       "      <th>pep</th>\n",
       "    </tr>\n",
       "    <tr>\n",
       "      <th>id</th>\n",
       "      <th></th>\n",
       "      <th></th>\n",
       "      <th></th>\n",
       "      <th></th>\n",
       "      <th></th>\n",
       "      <th></th>\n",
       "      <th></th>\n",
       "      <th></th>\n",
       "      <th></th>\n",
       "      <th></th>\n",
       "      <th></th>\n",
       "    </tr>\n",
       "  </thead>\n",
       "  <tbody>\n",
       "    <tr>\n",
       "      <th>ID12101</th>\n",
       "      <td>48</td>\n",
       "      <td>FEMALE</td>\n",
       "      <td>INNER_CITY</td>\n",
       "      <td>17546.0</td>\n",
       "      <td>NO</td>\n",
       "      <td>1</td>\n",
       "      <td>NO</td>\n",
       "      <td>NO</td>\n",
       "      <td>NO</td>\n",
       "      <td>NO</td>\n",
       "      <td>YES</td>\n",
       "    </tr>\n",
       "    <tr>\n",
       "      <th>ID12102</th>\n",
       "      <td>40</td>\n",
       "      <td>MALE</td>\n",
       "      <td>TOWN</td>\n",
       "      <td>30085.1</td>\n",
       "      <td>YES</td>\n",
       "      <td>3</td>\n",
       "      <td>YES</td>\n",
       "      <td>NO</td>\n",
       "      <td>YES</td>\n",
       "      <td>YES</td>\n",
       "      <td>NO</td>\n",
       "    </tr>\n",
       "    <tr>\n",
       "      <th>ID12103</th>\n",
       "      <td>51</td>\n",
       "      <td>FEMALE</td>\n",
       "      <td>INNER_CITY</td>\n",
       "      <td>16575.4</td>\n",
       "      <td>YES</td>\n",
       "      <td>0</td>\n",
       "      <td>YES</td>\n",
       "      <td>YES</td>\n",
       "      <td>YES</td>\n",
       "      <td>NO</td>\n",
       "      <td>NO</td>\n",
       "    </tr>\n",
       "    <tr>\n",
       "      <th>ID12104</th>\n",
       "      <td>23</td>\n",
       "      <td>FEMALE</td>\n",
       "      <td>TOWN</td>\n",
       "      <td>20375.4</td>\n",
       "      <td>YES</td>\n",
       "      <td>3</td>\n",
       "      <td>NO</td>\n",
       "      <td>NO</td>\n",
       "      <td>YES</td>\n",
       "      <td>NO</td>\n",
       "      <td>NO</td>\n",
       "    </tr>\n",
       "    <tr>\n",
       "      <th>ID12105</th>\n",
       "      <td>57</td>\n",
       "      <td>FEMALE</td>\n",
       "      <td>RURAL</td>\n",
       "      <td>50576.3</td>\n",
       "      <td>YES</td>\n",
       "      <td>0</td>\n",
       "      <td>NO</td>\n",
       "      <td>YES</td>\n",
       "      <td>NO</td>\n",
       "      <td>NO</td>\n",
       "      <td>NO</td>\n",
       "    </tr>\n",
       "  </tbody>\n",
       "</table>\n",
       "</div>"
      ],
      "text/plain": [
       "         age     sex      region   income married  children  car save_act  \\\n",
       "id                                                                          \n",
       "ID12101   48  FEMALE  INNER_CITY  17546.0      NO         1   NO       NO   \n",
       "ID12102   40    MALE        TOWN  30085.1     YES         3  YES       NO   \n",
       "ID12103   51  FEMALE  INNER_CITY  16575.4     YES         0  YES      YES   \n",
       "ID12104   23  FEMALE        TOWN  20375.4     YES         3   NO       NO   \n",
       "ID12105   57  FEMALE       RURAL  50576.3     YES         0   NO      YES   \n",
       "\n",
       "        current_act mortgage  pep  \n",
       "id                                 \n",
       "ID12101          NO       NO  YES  \n",
       "ID12102         YES      YES   NO  \n",
       "ID12103         YES       NO   NO  \n",
       "ID12104         YES       NO   NO  \n",
       "ID12105          NO       NO   NO  "
      ]
     },
     "execution_count": 266,
     "metadata": {},
     "output_type": "execute_result"
    }
   ],
   "source": [
    "# import dataset\n",
    "import pandas as pd\n",
    "df = pd.read_csv('bank-data.csv',index_col=0)\n",
    "df.head() "
   ]
  },
  {
   "cell_type": "markdown",
   "metadata": {},
   "source": [
    "#### Preprocess the data"
   ]
  },
  {
   "cell_type": "code",
   "execution_count": 267,
   "metadata": {},
   "outputs": [],
   "source": [
    "# import library for preprocessing\n",
    "from sklearn import preprocessing as ps"
   ]
  },
  {
   "cell_type": "code",
   "execution_count": 268,
   "metadata": {},
   "outputs": [
    {
     "data": {
      "text/html": [
       "<div>\n",
       "<style scoped>\n",
       "    .dataframe tbody tr th:only-of-type {\n",
       "        vertical-align: middle;\n",
       "    }\n",
       "\n",
       "    .dataframe tbody tr th {\n",
       "        vertical-align: top;\n",
       "    }\n",
       "\n",
       "    .dataframe thead th {\n",
       "        text-align: right;\n",
       "    }\n",
       "</style>\n",
       "<table border=\"1\" class=\"dataframe\">\n",
       "  <thead>\n",
       "    <tr style=\"text-align: right;\">\n",
       "      <th></th>\n",
       "      <th>age</th>\n",
       "      <th>sex</th>\n",
       "      <th>region</th>\n",
       "      <th>income</th>\n",
       "      <th>married</th>\n",
       "      <th>children</th>\n",
       "      <th>car</th>\n",
       "      <th>save_act</th>\n",
       "      <th>current_act</th>\n",
       "      <th>mortgage</th>\n",
       "      <th>pep</th>\n",
       "    </tr>\n",
       "    <tr>\n",
       "      <th>id</th>\n",
       "      <th></th>\n",
       "      <th></th>\n",
       "      <th></th>\n",
       "      <th></th>\n",
       "      <th></th>\n",
       "      <th></th>\n",
       "      <th></th>\n",
       "      <th></th>\n",
       "      <th></th>\n",
       "      <th></th>\n",
       "      <th></th>\n",
       "    </tr>\n",
       "  </thead>\n",
       "  <tbody>\n",
       "    <tr>\n",
       "      <th>ID12101</th>\n",
       "      <td>48</td>\n",
       "      <td>0</td>\n",
       "      <td>0</td>\n",
       "      <td>17546.0</td>\n",
       "      <td>0</td>\n",
       "      <td>1</td>\n",
       "      <td>0</td>\n",
       "      <td>0</td>\n",
       "      <td>0</td>\n",
       "      <td>0</td>\n",
       "      <td>YES</td>\n",
       "    </tr>\n",
       "    <tr>\n",
       "      <th>ID12102</th>\n",
       "      <td>40</td>\n",
       "      <td>1</td>\n",
       "      <td>3</td>\n",
       "      <td>30085.1</td>\n",
       "      <td>1</td>\n",
       "      <td>3</td>\n",
       "      <td>1</td>\n",
       "      <td>0</td>\n",
       "      <td>1</td>\n",
       "      <td>1</td>\n",
       "      <td>NO</td>\n",
       "    </tr>\n",
       "    <tr>\n",
       "      <th>ID12103</th>\n",
       "      <td>51</td>\n",
       "      <td>0</td>\n",
       "      <td>0</td>\n",
       "      <td>16575.4</td>\n",
       "      <td>1</td>\n",
       "      <td>0</td>\n",
       "      <td>1</td>\n",
       "      <td>1</td>\n",
       "      <td>1</td>\n",
       "      <td>0</td>\n",
       "      <td>NO</td>\n",
       "    </tr>\n",
       "    <tr>\n",
       "      <th>ID12104</th>\n",
       "      <td>23</td>\n",
       "      <td>0</td>\n",
       "      <td>3</td>\n",
       "      <td>20375.4</td>\n",
       "      <td>1</td>\n",
       "      <td>3</td>\n",
       "      <td>0</td>\n",
       "      <td>0</td>\n",
       "      <td>1</td>\n",
       "      <td>0</td>\n",
       "      <td>NO</td>\n",
       "    </tr>\n",
       "    <tr>\n",
       "      <th>ID12105</th>\n",
       "      <td>57</td>\n",
       "      <td>0</td>\n",
       "      <td>1</td>\n",
       "      <td>50576.3</td>\n",
       "      <td>1</td>\n",
       "      <td>0</td>\n",
       "      <td>0</td>\n",
       "      <td>1</td>\n",
       "      <td>0</td>\n",
       "      <td>0</td>\n",
       "      <td>NO</td>\n",
       "    </tr>\n",
       "  </tbody>\n",
       "</table>\n",
       "</div>"
      ],
      "text/plain": [
       "         age  sex  region   income  married  children  car  save_act  \\\n",
       "id                                                                     \n",
       "ID12101   48    0       0  17546.0        0         1    0         0   \n",
       "ID12102   40    1       3  30085.1        1         3    1         0   \n",
       "ID12103   51    0       0  16575.4        1         0    1         1   \n",
       "ID12104   23    0       3  20375.4        1         3    0         0   \n",
       "ID12105   57    0       1  50576.3        1         0    0         1   \n",
       "\n",
       "         current_act  mortgage  pep  \n",
       "id                                   \n",
       "ID12101            0         0  YES  \n",
       "ID12102            1         1   NO  \n",
       "ID12103            1         0   NO  \n",
       "ID12104            1         0   NO  \n",
       "ID12105            0         0   NO  "
      ]
     },
     "execution_count": 268,
     "metadata": {},
     "output_type": "execute_result"
    }
   ],
   "source": [
    "# Tranform data using \"fit_transform(attribute)\" function  \n",
    "lab_encoder=ps.LabelEncoder()   #create the label encoder , assign a particular label to attributes\n",
    "df.sex=lab_encoder.fit_transform(df.sex)  #fit the label encoder in the region applied to categorical attribute\n",
    "df.region=lab_encoder.fit_transform(df.region)\n",
    "df.married=lab_encoder.fit_transform(df.married)\n",
    "df.car=lab_encoder.fit_transform(df.car)\n",
    "df.save_act=lab_encoder.fit_transform(df.save_act)\n",
    "df.current_act=lab_encoder.fit_transform(df.current_act)\n",
    "df.mortgage=lab_encoder.fit_transform(df.mortgage)\n",
    "df.head()\n"
   ]
  },
  {
   "cell_type": "markdown",
   "metadata": {},
   "source": [
    "#### Select independent variables and target column"
   ]
  },
  {
   "cell_type": "code",
   "execution_count": 269,
   "metadata": {},
   "outputs": [],
   "source": [
    "# Select the independent variables and the target attribute\n",
    "X = df[df.columns[:-1]] # Selecting the independent variables\n",
    "Y=df[df.columns[len(df.columns)-1]] # selecting only the target lableled column\n"
   ]
  },
  {
   "cell_type": "markdown",
   "metadata": {},
   "source": [
    "#### Import Naive Bayes Classifier library "
   ]
  },
  {
   "cell_type": "code",
   "execution_count": 270,
   "metadata": {},
   "outputs": [],
   "source": [
    "# import Classifier library\n",
    "from sklearn.naive_bayes import GaussianNB"
   ]
  },
  {
   "cell_type": "code",
   "execution_count": 271,
   "metadata": {},
   "outputs": [
    {
     "data": {
      "text/plain": [
       "GaussianNB(priors=None, var_smoothing=1e-09)"
      ]
     },
     "execution_count": 271,
     "metadata": {},
     "output_type": "execute_result"
    }
   ],
   "source": [
    "# Call the Classifier\n",
    "clf = GaussianNB()\n",
    "clf"
   ]
  },
  {
   "cell_type": "markdown",
   "metadata": {},
   "source": [
    "#### Predict the target column and find the perfromance of the model"
   ]
  },
  {
   "cell_type": "code",
   "execution_count": 272,
   "metadata": {},
   "outputs": [],
   "source": [
    "# Divide the dataset into training and testing partition\n",
    "from sklearn.model_selection import train_test_split\n",
    "X_train, X_test, Y_train, Y_test = train_test_split(X, Y, test_size=0.30, random_state = 30)"
   ]
  },
  {
   "cell_type": "code",
   "execution_count": 273,
   "metadata": {},
   "outputs": [
    {
     "name": "stdout",
     "output_type": "stream",
     "text": [
      "No. of mislabeled points out of a total 144 points : 56\n"
     ]
    }
   ],
   "source": [
    "# Print Number of mislabeled points\n",
    "y_pred=clf.fit(X_train,Y_train).predict(X_test)\n",
    "\n",
    "print(\"No. of mislabeled points out of a total %d points : %d\"%(X_test.shape[0],(Y_test!=y_pred).sum()))"
   ]
  },
  {
   "cell_type": "markdown",
   "metadata": {},
   "source": [
    "### Prediction and Evaluation"
   ]
  },
  {
   "cell_type": "code",
   "execution_count": 274,
   "metadata": {},
   "outputs": [],
   "source": [
    "# import required libraries\n",
    "from sklearn.metrics import classification_report,confusion_matrix\n",
    "from sklearn.metrics import accuracy_score\n"
   ]
  },
  {
   "cell_type": "code",
   "execution_count": 275,
   "metadata": {},
   "outputs": [
    {
     "name": "stdout",
     "output_type": "stream",
     "text": [
      "              precision    recall  f1-score   support\n",
      "\n",
      "          NO       0.62      0.78      0.69        80\n",
      "         YES       0.59      0.41      0.48        64\n",
      "\n",
      "   micro avg       0.61      0.61      0.61       144\n",
      "   macro avg       0.61      0.59      0.59       144\n",
      "weighted avg       0.61      0.61      0.60       144\n",
      "\n",
      "Confusion Matrix\n",
      "[[62 18]\n",
      " [38 26]]\n",
      "\n",
      " Accuracy\n",
      "0.6111111111111112\n"
     ]
    }
   ],
   "source": [
    "# Calculate and print confusion matrix and other performance measures (Refer previous labsheet)\n",
    "print(classification_report(Y_test,y_pred))\n",
    "print(\"Confusion Matrix\")\n",
    "print(confusion_matrix(Y_test,y_pred))\n",
    "print(\"\\n Accuracy\")\n",
    "print(accuracy_score(Y_test,y_pred))"
   ]
  },
  {
   "cell_type": "markdown",
   "metadata": {},
   "source": [
    "#### Q1: Consider \"current_act\" as an irrelevant attribute. Remove it and find the accuracy of Naive Bayes classifier"
   ]
  },
  {
   "cell_type": "code",
   "execution_count": 276,
   "metadata": {},
   "outputs": [
    {
     "data": {
      "text/html": [
       "<div>\n",
       "<style scoped>\n",
       "    .dataframe tbody tr th:only-of-type {\n",
       "        vertical-align: middle;\n",
       "    }\n",
       "\n",
       "    .dataframe tbody tr th {\n",
       "        vertical-align: top;\n",
       "    }\n",
       "\n",
       "    .dataframe thead th {\n",
       "        text-align: right;\n",
       "    }\n",
       "</style>\n",
       "<table border=\"1\" class=\"dataframe\">\n",
       "  <thead>\n",
       "    <tr style=\"text-align: right;\">\n",
       "      <th></th>\n",
       "      <th>age</th>\n",
       "      <th>sex</th>\n",
       "      <th>region</th>\n",
       "      <th>income</th>\n",
       "      <th>married</th>\n",
       "      <th>children</th>\n",
       "      <th>car</th>\n",
       "      <th>save_act</th>\n",
       "      <th>mortgage</th>\n",
       "      <th>pep</th>\n",
       "    </tr>\n",
       "    <tr>\n",
       "      <th>id</th>\n",
       "      <th></th>\n",
       "      <th></th>\n",
       "      <th></th>\n",
       "      <th></th>\n",
       "      <th></th>\n",
       "      <th></th>\n",
       "      <th></th>\n",
       "      <th></th>\n",
       "      <th></th>\n",
       "      <th></th>\n",
       "    </tr>\n",
       "  </thead>\n",
       "  <tbody>\n",
       "    <tr>\n",
       "      <th>ID12101</th>\n",
       "      <td>48</td>\n",
       "      <td>0</td>\n",
       "      <td>0</td>\n",
       "      <td>17546.0</td>\n",
       "      <td>0</td>\n",
       "      <td>1</td>\n",
       "      <td>0</td>\n",
       "      <td>0</td>\n",
       "      <td>0</td>\n",
       "      <td>YES</td>\n",
       "    </tr>\n",
       "    <tr>\n",
       "      <th>ID12102</th>\n",
       "      <td>40</td>\n",
       "      <td>1</td>\n",
       "      <td>3</td>\n",
       "      <td>30085.1</td>\n",
       "      <td>1</td>\n",
       "      <td>3</td>\n",
       "      <td>1</td>\n",
       "      <td>0</td>\n",
       "      <td>1</td>\n",
       "      <td>NO</td>\n",
       "    </tr>\n",
       "    <tr>\n",
       "      <th>ID12103</th>\n",
       "      <td>51</td>\n",
       "      <td>0</td>\n",
       "      <td>0</td>\n",
       "      <td>16575.4</td>\n",
       "      <td>1</td>\n",
       "      <td>0</td>\n",
       "      <td>1</td>\n",
       "      <td>1</td>\n",
       "      <td>0</td>\n",
       "      <td>NO</td>\n",
       "    </tr>\n",
       "    <tr>\n",
       "      <th>ID12104</th>\n",
       "      <td>23</td>\n",
       "      <td>0</td>\n",
       "      <td>3</td>\n",
       "      <td>20375.4</td>\n",
       "      <td>1</td>\n",
       "      <td>3</td>\n",
       "      <td>0</td>\n",
       "      <td>0</td>\n",
       "      <td>0</td>\n",
       "      <td>NO</td>\n",
       "    </tr>\n",
       "    <tr>\n",
       "      <th>ID12105</th>\n",
       "      <td>57</td>\n",
       "      <td>0</td>\n",
       "      <td>1</td>\n",
       "      <td>50576.3</td>\n",
       "      <td>1</td>\n",
       "      <td>0</td>\n",
       "      <td>0</td>\n",
       "      <td>1</td>\n",
       "      <td>0</td>\n",
       "      <td>NO</td>\n",
       "    </tr>\n",
       "  </tbody>\n",
       "</table>\n",
       "</div>"
      ],
      "text/plain": [
       "         age  sex  region   income  married  children  car  save_act  \\\n",
       "id                                                                     \n",
       "ID12101   48    0       0  17546.0        0         1    0         0   \n",
       "ID12102   40    1       3  30085.1        1         3    1         0   \n",
       "ID12103   51    0       0  16575.4        1         0    1         1   \n",
       "ID12104   23    0       3  20375.4        1         3    0         0   \n",
       "ID12105   57    0       1  50576.3        1         0    0         1   \n",
       "\n",
       "         mortgage  pep  \n",
       "id                      \n",
       "ID12101         0  YES  \n",
       "ID12102         1   NO  \n",
       "ID12103         0   NO  \n",
       "ID12104         0   NO  \n",
       "ID12105         0   NO  "
      ]
     },
     "execution_count": 276,
     "metadata": {},
     "output_type": "execute_result"
    }
   ],
   "source": [
    "# display dataframe first 5 columns\n",
    "df1=df\n",
    "df1.head(5)\n",
    "df1.drop(['current_act'],axis=1,inplace=True)\n",
    "df1.head(5)"
   ]
  },
  {
   "cell_type": "code",
   "execution_count": 277,
   "metadata": {},
   "outputs": [],
   "source": [
    "# Selecting the independent variables\n",
    "X1 = df1[df1.columns[:-1]] # Selecting the independent variables\n",
    " \n"
   ]
  },
  {
   "cell_type": "code",
   "execution_count": 278,
   "metadata": {},
   "outputs": [],
   "source": [
    "# selecting only the target lableled column\n",
    "Y1=df1[df1.columns[len(df1.columns)-1]]"
   ]
  },
  {
   "cell_type": "code",
   "execution_count": 279,
   "metadata": {},
   "outputs": [
    {
     "name": "stdout",
     "output_type": "stream",
     "text": [
      "No. of mislabeled points out of a total 144 points : 56\n"
     ]
    }
   ],
   "source": [
    "# Apply the classifier and Print Number of mislabeled points\n",
    "from sklearn.naive_bayes import GaussianNB\n",
    "from sklearn.model_selection import train_test_split\n",
    "X_train, X_test, Y_train, Y_test = train_test_split(X1, Y1, test_size=0.30, random_state = 30)\n",
    "y_pred=clf.fit(X_train,Y_train).predict(X_test)\n",
    "\n",
    "print(\"No. of mislabeled points out of a total %d points : %d\"%(X_test.shape[0],(Y_test!=y_pred).sum()))"
   ]
  },
  {
   "cell_type": "code",
   "execution_count": 280,
   "metadata": {},
   "outputs": [
    {
     "name": "stdout",
     "output_type": "stream",
     "text": [
      "              precision    recall  f1-score   support\n",
      "\n",
      "          NO       0.62      0.76      0.69        80\n",
      "         YES       0.59      0.42      0.49        64\n",
      "\n",
      "   micro avg       0.61      0.61      0.61       144\n",
      "   macro avg       0.60      0.59      0.59       144\n",
      "weighted avg       0.61      0.61      0.60       144\n",
      "\n",
      "Confusion Matrix\n",
      "[[61 19]\n",
      " [37 27]]\n",
      "\n",
      " Accuracy\n",
      "0.6111111111111112\n"
     ]
    }
   ],
   "source": [
    "# Calculate and print confusion matrix and other performance measures\n",
    "print(classification_report(Y_test,y_pred))\n",
    "print(\"Confusion Matrix\")\n",
    "print(confusion_matrix(Y_test,y_pred))\n",
    "print(\"\\n Accuracy\")\n",
    "print(accuracy_score(Y_test,y_pred))"
   ]
  },
  {
   "cell_type": "markdown",
   "metadata": {},
   "source": [
    "#### Q2: Write your observation"
   ]
  },
  {
   "cell_type": "markdown",
   "metadata": {},
   "source": [
    "After Removing the irrelevent attribute \"current_act\", Accuracy of Naive bayes classifer is still same as the earlier builded classifier."
   ]
  },
  {
   "cell_type": "markdown",
   "metadata": {},
   "source": [
    "### Load \"car.csv\" dataset. "
   ]
  },
  {
   "cell_type": "markdown",
   "metadata": {},
   "source": [
    "#### Q3: Apply Naive Bayes classifier on this dataset"
   ]
  },
  {
   "cell_type": "code",
   "execution_count": 281,
   "metadata": {},
   "outputs": [
    {
     "data": {
      "text/html": [
       "<div>\n",
       "<style scoped>\n",
       "    .dataframe tbody tr th:only-of-type {\n",
       "        vertical-align: middle;\n",
       "    }\n",
       "\n",
       "    .dataframe tbody tr th {\n",
       "        vertical-align: top;\n",
       "    }\n",
       "\n",
       "    .dataframe thead th {\n",
       "        text-align: right;\n",
       "    }\n",
       "</style>\n",
       "<table border=\"1\" class=\"dataframe\">\n",
       "  <thead>\n",
       "    <tr style=\"text-align: right;\">\n",
       "      <th></th>\n",
       "      <th>price</th>\n",
       "      <th>maintenance_cost</th>\n",
       "      <th>doors</th>\n",
       "      <th>person_capacity</th>\n",
       "      <th>luggage_boot_size</th>\n",
       "      <th>safety</th>\n",
       "      <th>class</th>\n",
       "    </tr>\n",
       "  </thead>\n",
       "  <tbody>\n",
       "    <tr>\n",
       "      <th>734</th>\n",
       "      <td>high</td>\n",
       "      <td>med</td>\n",
       "      <td>6</td>\n",
       "      <td>2</td>\n",
       "      <td>big</td>\n",
       "      <td>low</td>\n",
       "      <td>unacc</td>\n",
       "    </tr>\n",
       "    <tr>\n",
       "      <th>139</th>\n",
       "      <td>vhigh</td>\n",
       "      <td>high</td>\n",
       "      <td>3</td>\n",
       "      <td>2</td>\n",
       "      <td>med</td>\n",
       "      <td>high</td>\n",
       "      <td>unacc</td>\n",
       "    </tr>\n",
       "    <tr>\n",
       "      <th>484</th>\n",
       "      <td>high</td>\n",
       "      <td>vhigh</td>\n",
       "      <td>3</td>\n",
       "      <td>6</td>\n",
       "      <td>big</td>\n",
       "      <td>high</td>\n",
       "      <td>unacc</td>\n",
       "    </tr>\n",
       "    <tr>\n",
       "      <th>582</th>\n",
       "      <td>high</td>\n",
       "      <td>high</td>\n",
       "      <td>3</td>\n",
       "      <td>4</td>\n",
       "      <td>big</td>\n",
       "      <td>med</td>\n",
       "      <td>acc</td>\n",
       "    </tr>\n",
       "    <tr>\n",
       "      <th>567</th>\n",
       "      <td>high</td>\n",
       "      <td>high</td>\n",
       "      <td>3</td>\n",
       "      <td>2</td>\n",
       "      <td>small</td>\n",
       "      <td>med</td>\n",
       "      <td>unacc</td>\n",
       "    </tr>\n",
       "  </tbody>\n",
       "</table>\n",
       "</div>"
      ],
      "text/plain": [
       "     price maintenance_cost  doors  person_capacity luggage_boot_size safety  \\\n",
       "734   high              med      6                2               big    low   \n",
       "139  vhigh             high      3                2               med   high   \n",
       "484   high            vhigh      3                6               big   high   \n",
       "582   high             high      3                4               big    med   \n",
       "567   high             high      3                2             small    med   \n",
       "\n",
       "     class  \n",
       "734  unacc  \n",
       "139  unacc  \n",
       "484  unacc  \n",
       "582    acc  \n",
       "567  unacc  "
      ]
     },
     "execution_count": 281,
     "metadata": {},
     "output_type": "execute_result"
    }
   ],
   "source": [
    "# Load the data\n",
    "import pandas as pd\n",
    "df2 = pd.read_csv('car.csv')\n",
    "df2.columns = [\"price\", \"maintenance_cost\", \"doors\", \"person_capacity\", \"luggage_boot_size\", \"safety\", \"class\"]\n",
    "\n",
    "# shuffle the DataFrame rows \n",
    "df2=df2.sample(frac=1)\n",
    "df2.head() \n"
   ]
  },
  {
   "cell_type": "code",
   "execution_count": 282,
   "metadata": {},
   "outputs": [
    {
     "data": {
      "text/html": [
       "<div>\n",
       "<style scoped>\n",
       "    .dataframe tbody tr th:only-of-type {\n",
       "        vertical-align: middle;\n",
       "    }\n",
       "\n",
       "    .dataframe tbody tr th {\n",
       "        vertical-align: top;\n",
       "    }\n",
       "\n",
       "    .dataframe thead th {\n",
       "        text-align: right;\n",
       "    }\n",
       "</style>\n",
       "<table border=\"1\" class=\"dataframe\">\n",
       "  <thead>\n",
       "    <tr style=\"text-align: right;\">\n",
       "      <th></th>\n",
       "      <th>price</th>\n",
       "      <th>maintenance_cost</th>\n",
       "      <th>doors</th>\n",
       "      <th>person_capacity</th>\n",
       "      <th>luggage_boot_size</th>\n",
       "      <th>safety</th>\n",
       "      <th>class</th>\n",
       "    </tr>\n",
       "  </thead>\n",
       "  <tbody>\n",
       "    <tr>\n",
       "      <th>734</th>\n",
       "      <td>0</td>\n",
       "      <td>2</td>\n",
       "      <td>3</td>\n",
       "      <td>0</td>\n",
       "      <td>0</td>\n",
       "      <td>1</td>\n",
       "      <td>unacc</td>\n",
       "    </tr>\n",
       "    <tr>\n",
       "      <th>139</th>\n",
       "      <td>3</td>\n",
       "      <td>0</td>\n",
       "      <td>1</td>\n",
       "      <td>0</td>\n",
       "      <td>1</td>\n",
       "      <td>0</td>\n",
       "      <td>unacc</td>\n",
       "    </tr>\n",
       "    <tr>\n",
       "      <th>484</th>\n",
       "      <td>0</td>\n",
       "      <td>3</td>\n",
       "      <td>1</td>\n",
       "      <td>2</td>\n",
       "      <td>0</td>\n",
       "      <td>0</td>\n",
       "      <td>unacc</td>\n",
       "    </tr>\n",
       "    <tr>\n",
       "      <th>582</th>\n",
       "      <td>0</td>\n",
       "      <td>0</td>\n",
       "      <td>1</td>\n",
       "      <td>1</td>\n",
       "      <td>0</td>\n",
       "      <td>2</td>\n",
       "      <td>acc</td>\n",
       "    </tr>\n",
       "    <tr>\n",
       "      <th>567</th>\n",
       "      <td>0</td>\n",
       "      <td>0</td>\n",
       "      <td>1</td>\n",
       "      <td>0</td>\n",
       "      <td>2</td>\n",
       "      <td>2</td>\n",
       "      <td>unacc</td>\n",
       "    </tr>\n",
       "  </tbody>\n",
       "</table>\n",
       "</div>"
      ],
      "text/plain": [
       "     price  maintenance_cost  doors  person_capacity  luggage_boot_size  \\\n",
       "734      0                 2      3                0                  0   \n",
       "139      3                 0      1                0                  1   \n",
       "484      0                 3      1                2                  0   \n",
       "582      0                 0      1                1                  0   \n",
       "567      0                 0      1                0                  2   \n",
       "\n",
       "     safety  class  \n",
       "734       1  unacc  \n",
       "139       0  unacc  \n",
       "484       0  unacc  \n",
       "582       2    acc  \n",
       "567       2  unacc  "
      ]
     },
     "execution_count": 282,
     "metadata": {},
     "output_type": "execute_result"
    }
   ],
   "source": [
    "# Preprocess and Tranform data using \"fit_transform(attribute)\" function  \n",
    "lab_encoder=ps.LabelEncoder()   #create the label encoder , assign a particular label to attributes\n",
    "df2.price=lab_encoder.fit_transform(df2.price)  #fit the label encoder in the region applied to categorical attribute\n",
    "df2.maintenance_cost=lab_encoder.fit_transform(df2.maintenance_cost)\n",
    "df2.doors=lab_encoder.fit_transform(df2.doors)\n",
    "df2.person_capacity\t=lab_encoder.fit_transform(df2.person_capacity)\n",
    "df2.luggage_boot_size=lab_encoder.fit_transform(df2.luggage_boot_size)\n",
    "df2.safety=lab_encoder.fit_transform(df2.safety)\n",
    "df2.head()"
   ]
  },
  {
   "cell_type": "code",
   "execution_count": 283,
   "metadata": {},
   "outputs": [],
   "source": [
    "# Select the independent variables and the target attribute\n",
    "X2 = df2[df2.columns[:-1]] # Selecting the independent variables\n",
    "Y2=df2[df2.columns[len(df2.columns)-1]] # selecting only the target lableled column"
   ]
  },
  {
   "cell_type": "code",
   "execution_count": 284,
   "metadata": {},
   "outputs": [
    {
     "data": {
      "text/plain": [
       "GaussianNB(priors=None, var_smoothing=1e-09)"
      ]
     },
     "execution_count": 284,
     "metadata": {},
     "output_type": "execute_result"
    }
   ],
   "source": [
    "# Apply the classifier\n",
    "from sklearn.naive_bayes import GaussianNB\n",
    "clf1 = GaussianNB()\n",
    "clf1"
   ]
  },
  {
   "cell_type": "code",
   "execution_count": 285,
   "metadata": {},
   "outputs": [],
   "source": [
    "# Divide the dataset into training and testing partition\n",
    "# predictions for testing partition\n",
    "X_train, X_test, Y_train, Y_test = train_test_split(X2, Y2, test_size=0.30, random_state = 30)\n",
    "y_pred=clf1.fit(X_train,Y_train).predict(X_test)\n",
    "\n",
    "\n"
   ]
  },
  {
   "cell_type": "code",
   "execution_count": 286,
   "metadata": {},
   "outputs": [
    {
     "name": "stdout",
     "output_type": "stream",
     "text": [
      "No. of mislabeled points out of a total 519 points : 183\n"
     ]
    }
   ],
   "source": [
    "# Print Number of mislabeled points\n",
    "print(\"No. of mislabeled points out of a total %d points : %d\"%(X_test.shape[0],(Y_test!=y_pred).sum()))"
   ]
  },
  {
   "cell_type": "code",
   "execution_count": 287,
   "metadata": {},
   "outputs": [
    {
     "name": "stdout",
     "output_type": "stream",
     "text": [
      "              precision    recall  f1-score   support\n",
      "\n",
      "         acc       0.57      0.09      0.16       129\n",
      "        good       0.00      0.00      0.00        19\n",
      "       unacc       0.84      0.87      0.85       353\n",
      "       vgood       0.14      1.00      0.24        18\n",
      "\n",
      "   micro avg       0.65      0.65      0.65       519\n",
      "   macro avg       0.39      0.49      0.31       519\n",
      "weighted avg       0.72      0.65      0.63       519\n",
      "\n",
      "Confusion Matrix\n",
      "[[ 12   0  54  63]\n",
      " [  5   0   6   8]\n",
      " [  4   0 306  43]\n",
      " [  0   0   0  18]]\n",
      "\n",
      " Accuracy\n",
      "0.6473988439306358\n"
     ]
    },
    {
     "name": "stderr",
     "output_type": "stream",
     "text": [
      "C:\\Users\\HP\\Anaconda3\\lib\\site-packages\\sklearn\\metrics\\classification.py:1143: UndefinedMetricWarning: Precision and F-score are ill-defined and being set to 0.0 in labels with no predicted samples.\n",
      "  'precision', 'predicted', average, warn_for)\n"
     ]
    }
   ],
   "source": [
    "# Calculate and print confusion matrix and other performance measures\n",
    "print(classification_report(Y_test,y_pred))\n",
    "print(\"Confusion Matrix\")\n",
    "print(confusion_matrix(Y_test,y_pred))\n",
    "print(\"\\n Accuracy\")\n",
    "print(accuracy_score(Y_test,y_pred))"
   ]
  },
  {
   "cell_type": "markdown",
   "metadata": {},
   "source": [
    "#### Q4: Find the correlation between the attributes of the dataset."
   ]
  },
  {
   "cell_type": "code",
   "execution_count": 288,
   "metadata": {},
   "outputs": [
    {
     "data": {
      "text/plain": [
       "luggage_boot_size  safety               7.713233e-19\n",
       "safety             luggage_boot_size    7.713233e-19\n",
       "doors              safety               8.450158e-19\n",
       "safety             doors                8.450158e-19\n",
       "                   person_capacity      3.085293e-18\n",
       "person_capacity    safety               3.085293e-18\n",
       "price              safety               4.225079e-18\n",
       "safety             price                4.225079e-18\n",
       "maintenance_cost   safety               4.788423e-18\n",
       "safety             maintenance_cost     4.788423e-18\n",
       "luggage_boot_size  person_capacity      8.693132e-04\n",
       "person_capacity    luggage_boot_size    8.693132e-04\n",
       "price              luggage_boot_size    9.523677e-04\n",
       "luggage_boot_size  price                9.523677e-04\n",
       "                   maintenance_cost     9.523677e-04\n",
       "maintenance_cost   luggage_boot_size    9.523677e-04\n",
       "person_capacity    price                9.523677e-04\n",
       "price              person_capacity      9.523677e-04\n",
       "person_capacity    doors                9.523677e-04\n",
       "doors              person_capacity      9.523677e-04\n",
       "luggage_boot_size  doors                9.523677e-04\n",
       "doors              luggage_boot_size    9.523677e-04\n",
       "person_capacity    maintenance_cost     9.523677e-04\n",
       "maintenance_cost   person_capacity      9.523677e-04\n",
       "price              doors                1.043357e-03\n",
       "doors              price                1.043357e-03\n",
       "maintenance_cost   price                1.043357e-03\n",
       "price              maintenance_cost     1.043357e-03\n",
       "doors              maintenance_cost     1.043357e-03\n",
       "maintenance_cost   doors                1.043357e-03\n",
       "price              price                1.000000e+00\n",
       "person_capacity    person_capacity      1.000000e+00\n",
       "doors              doors                1.000000e+00\n",
       "maintenance_cost   maintenance_cost     1.000000e+00\n",
       "luggage_boot_size  luggage_boot_size    1.000000e+00\n",
       "safety             safety               1.000000e+00\n",
       "dtype: float64"
      ]
     },
     "execution_count": 288,
     "metadata": {},
     "output_type": "execute_result"
    }
   ],
   "source": [
    "# Find the pairwise correlation of attributes and arrange in ascending order\n",
    "cor=df2.corr().abs()\n",
    "s=cor.unstack()\n",
    "so=s.sort_values(kind=\"quicksort\")\n",
    "so"
   ]
  },
  {
   "cell_type": "markdown",
   "metadata": {},
   "source": [
    "#### Q5: Remove one of the highly correlated attributes and apply Naive Bayes classifier"
   ]
  },
  {
   "cell_type": "code",
   "execution_count": 289,
   "metadata": {},
   "outputs": [
    {
     "data": {
      "text/html": [
       "<div>\n",
       "<style scoped>\n",
       "    .dataframe tbody tr th:only-of-type {\n",
       "        vertical-align: middle;\n",
       "    }\n",
       "\n",
       "    .dataframe tbody tr th {\n",
       "        vertical-align: top;\n",
       "    }\n",
       "\n",
       "    .dataframe thead th {\n",
       "        text-align: right;\n",
       "    }\n",
       "</style>\n",
       "<table border=\"1\" class=\"dataframe\">\n",
       "  <thead>\n",
       "    <tr style=\"text-align: right;\">\n",
       "      <th></th>\n",
       "      <th>price</th>\n",
       "      <th>maintenance_cost</th>\n",
       "      <th>person_capacity</th>\n",
       "      <th>luggage_boot_size</th>\n",
       "      <th>safety</th>\n",
       "      <th>class</th>\n",
       "    </tr>\n",
       "  </thead>\n",
       "  <tbody>\n",
       "    <tr>\n",
       "      <th>734</th>\n",
       "      <td>0</td>\n",
       "      <td>2</td>\n",
       "      <td>0</td>\n",
       "      <td>0</td>\n",
       "      <td>1</td>\n",
       "      <td>unacc</td>\n",
       "    </tr>\n",
       "    <tr>\n",
       "      <th>139</th>\n",
       "      <td>3</td>\n",
       "      <td>0</td>\n",
       "      <td>0</td>\n",
       "      <td>1</td>\n",
       "      <td>0</td>\n",
       "      <td>unacc</td>\n",
       "    </tr>\n",
       "    <tr>\n",
       "      <th>484</th>\n",
       "      <td>0</td>\n",
       "      <td>3</td>\n",
       "      <td>2</td>\n",
       "      <td>0</td>\n",
       "      <td>0</td>\n",
       "      <td>unacc</td>\n",
       "    </tr>\n",
       "    <tr>\n",
       "      <th>582</th>\n",
       "      <td>0</td>\n",
       "      <td>0</td>\n",
       "      <td>1</td>\n",
       "      <td>0</td>\n",
       "      <td>2</td>\n",
       "      <td>acc</td>\n",
       "    </tr>\n",
       "    <tr>\n",
       "      <th>567</th>\n",
       "      <td>0</td>\n",
       "      <td>0</td>\n",
       "      <td>0</td>\n",
       "      <td>2</td>\n",
       "      <td>2</td>\n",
       "      <td>unacc</td>\n",
       "    </tr>\n",
       "  </tbody>\n",
       "</table>\n",
       "</div>"
      ],
      "text/plain": [
       "     price  maintenance_cost  person_capacity  luggage_boot_size  safety  \\\n",
       "734      0                 2                0                  0       1   \n",
       "139      3                 0                0                  1       0   \n",
       "484      0                 3                2                  0       0   \n",
       "582      0                 0                1                  0       2   \n",
       "567      0                 0                0                  2       2   \n",
       "\n",
       "     class  \n",
       "734  unacc  \n",
       "139  unacc  \n",
       "484  unacc  \n",
       "582    acc  \n",
       "567  unacc  "
      ]
     },
     "execution_count": 289,
     "metadata": {},
     "output_type": "execute_result"
    }
   ],
   "source": [
    "# Drop highly correlated attribute\n",
    "df3=df2\n",
    "df3.head(5)\n",
    "df3.drop(['doors'],axis=1,inplace=True)\n",
    "df3.head(5)"
   ]
  },
  {
   "cell_type": "code",
   "execution_count": 290,
   "metadata": {},
   "outputs": [
    {
     "name": "stdout",
     "output_type": "stream",
     "text": [
      "No. of mislabeled points out of a total 519 points : 183\n"
     ]
    }
   ],
   "source": [
    "# Apply the classifier\n",
    "# Divide the dataset into training and testing partition\n",
    "# predictions for testing partition\n",
    "# Print Number of mislabeled points\n",
    "\n",
    "clf2 = GaussianNB()\n",
    "\n",
    "# Select the independent variables and the target attribute\n",
    "X3 = df3[df3.columns[:-1]] # Selecting the independent variables\n",
    "Y3=df3[df3.columns[len(df3.columns)-1]] # selecting only the target lableled column\n",
    "\n",
    "X_train, X_test, Y_train, Y_test = train_test_split(X3, Y3, test_size=0.30, random_state = 30)\n",
    "y_pred=clf2.fit(X_train,Y_train).predict(X_test)\n",
    "print(\"No. of mislabeled points out of a total %d points : %d\"%(X_test.shape[0],(Y_test!=y_pred).sum()))"
   ]
  },
  {
   "cell_type": "code",
   "execution_count": 291,
   "metadata": {},
   "outputs": [
    {
     "name": "stdout",
     "output_type": "stream",
     "text": [
      "              precision    recall  f1-score   support\n",
      "\n",
      "         acc       0.64      0.05      0.10       129\n",
      "        good       0.00      0.00      0.00        19\n",
      "       unacc       0.82      0.88      0.85       353\n",
      "       vgood       0.14      1.00      0.24        18\n",
      "\n",
      "   micro avg       0.65      0.65      0.65       519\n",
      "   macro avg       0.40      0.48      0.30       519\n",
      "weighted avg       0.72      0.65      0.61       519\n",
      "\n",
      "Confusion Matrix\n",
      "[[  7   0  59  63]\n",
      " [  4   0   7   8]\n",
      " [  0   0 311  42]\n",
      " [  0   0   0  18]]\n",
      "\n",
      " Accuracy\n",
      "0.6473988439306358\n"
     ]
    },
    {
     "name": "stderr",
     "output_type": "stream",
     "text": [
      "C:\\Users\\HP\\Anaconda3\\lib\\site-packages\\sklearn\\metrics\\classification.py:1143: UndefinedMetricWarning: Precision and F-score are ill-defined and being set to 0.0 in labels with no predicted samples.\n",
      "  'precision', 'predicted', average, warn_for)\n"
     ]
    }
   ],
   "source": [
    "# Calculate and print confusion matrix and other performance measures\n",
    "\n",
    "print(classification_report(Y_test,y_pred))\n",
    "print(\"Confusion Matrix\")\n",
    "print(confusion_matrix(Y_test,y_pred))\n",
    "print(\"\\n Accuracy\")\n",
    "print(accuracy_score(Y_test,y_pred))"
   ]
  },
  {
   "cell_type": "markdown",
   "metadata": {},
   "source": [
    "#### Q6: Write your observation below in the performance of model in Q4 and Q6"
   ]
  },
  {
   "cell_type": "markdown",
   "metadata": {},
   "source": [
    "Accuracy of Naive bayes classifier is slightly reduced after dropping the attribute \"doors\". In earlier Naive bayes classifer\n",
    "the accuracy is 0.6242774566473989 and after dropping the column \"doors\"(Higly correlated attribute) the accuracy is \n",
    "0.6184971098265896."
   ]
  },
  {
   "cell_type": "code",
   "execution_count": null,
   "metadata": {},
   "outputs": [],
   "source": []
  },
  {
   "cell_type": "code",
   "execution_count": null,
   "metadata": {},
   "outputs": [],
   "source": []
  }
 ],
 "metadata": {
  "kernelspec": {
   "display_name": "Python 3",
   "language": "python",
   "name": "python3"
  },
  "language_info": {
   "codemirror_mode": {
    "name": "ipython",
    "version": 3
   },
   "file_extension": ".py",
   "mimetype": "text/x-python",
   "name": "python",
   "nbconvert_exporter": "python",
   "pygments_lexer": "ipython3",
   "version": "3.7.3"
  }
 },
 "nbformat": 4,
 "nbformat_minor": 2
}
