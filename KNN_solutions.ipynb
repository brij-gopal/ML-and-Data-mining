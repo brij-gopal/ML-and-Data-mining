{
 "cells": [
  {
   "cell_type": "markdown",
   "metadata": {},
   "source": [
    "# K-Nearest Neighbour\n",
    "\n",
    "\n",
    "K nearest neighbors is a simple algorithm that stores all available cases and classifies new cases based on a similarity measure (e.g., distance functions). A new record is classified by a majority vote of its neighbors, with the case being assigned to the class most common amongst its K nearest neighbors measured by a distance function. If K = 1, then the case is simply assigned to the class of its nearest neighbor. \n",
    "\n",
    "Suppose you want to find out the class of the blue star (BS) in the image below. BS can either be RC or GS. The “K” is KNN algorithm is the nearest neighbor we wish to take the vote from. Let’s say K = 3. Hence, we will now make a circle with BS as the center just as big as to enclose only three datapoints on the plane. The three closest points to BS is all RC. Hence, with a good confidence level, we can say that the BS should belong to the class RC. Here, the choice became very obvious as all three votes from the closest neighbor went to RC. The choice of the parameter K is very crucial in this algorithm.\n",
    "\n",
    "<img src=\"img1.png\">\n",
    "\n",
    "The distance functions used for Numeric fields are given below:\n",
    "<img src=\"img2.png\">"
   ]
  },
  {
   "cell_type": "markdown",
   "metadata": {},
   "source": [
    "### Libraries useful in K-NN are listed below"
   ]
  },
  {
   "cell_type": "raw",
   "metadata": {},
   "source": [
    "To load dataset:    import pandas as pd\n",
    "K-NN Classifier:    from sklearn.neighbors import KNeighborsClassifier\n",
    "Train & Test Split: from sklearn.model_selection import train_test_split\n",
    "\n",
    "For Prediction and Evaluation\n",
    "\n",
    "from sklearn.metrics import classification_report,confusion_matrix\n",
    "from sklearn.metrics import accuracy_score\n"
   ]
  },
  {
   "cell_type": "markdown",
   "metadata": {},
   "source": [
    "### Get The Data. Load data \"spambase_data.csv\""
   ]
  },
  {
   "cell_type": "code",
   "execution_count": 106,
   "metadata": {},
   "outputs": [
    {
     "data": {
      "text/html": [
       "<div>\n",
       "<style scoped>\n",
       "    .dataframe tbody tr th:only-of-type {\n",
       "        vertical-align: middle;\n",
       "    }\n",
       "\n",
       "    .dataframe tbody tr th {\n",
       "        vertical-align: top;\n",
       "    }\n",
       "\n",
       "    .dataframe thead th {\n",
       "        text-align: right;\n",
       "    }\n",
       "</style>\n",
       "<table border=\"1\" class=\"dataframe\">\n",
       "  <thead>\n",
       "    <tr style=\"text-align: right;\">\n",
       "      <th></th>\n",
       "      <th>0</th>\n",
       "      <th>1</th>\n",
       "      <th>2</th>\n",
       "      <th>3</th>\n",
       "      <th>4</th>\n",
       "      <th>5</th>\n",
       "      <th>6</th>\n",
       "      <th>7</th>\n",
       "      <th>8</th>\n",
       "      <th>9</th>\n",
       "      <th>...</th>\n",
       "      <th>48</th>\n",
       "      <th>49</th>\n",
       "      <th>50</th>\n",
       "      <th>51</th>\n",
       "      <th>52</th>\n",
       "      <th>53</th>\n",
       "      <th>54</th>\n",
       "      <th>55</th>\n",
       "      <th>56</th>\n",
       "      <th>57</th>\n",
       "    </tr>\n",
       "  </thead>\n",
       "  <tbody>\n",
       "    <tr>\n",
       "      <th>0</th>\n",
       "      <td>0.00</td>\n",
       "      <td>0.64</td>\n",
       "      <td>0.64</td>\n",
       "      <td>0.0</td>\n",
       "      <td>0.32</td>\n",
       "      <td>0.00</td>\n",
       "      <td>0.00</td>\n",
       "      <td>0.00</td>\n",
       "      <td>0.00</td>\n",
       "      <td>0.00</td>\n",
       "      <td>...</td>\n",
       "      <td>0.00</td>\n",
       "      <td>0.000</td>\n",
       "      <td>0.0</td>\n",
       "      <td>0.778</td>\n",
       "      <td>0.000</td>\n",
       "      <td>0.000</td>\n",
       "      <td>3.756</td>\n",
       "      <td>61</td>\n",
       "      <td>278</td>\n",
       "      <td>1</td>\n",
       "    </tr>\n",
       "    <tr>\n",
       "      <th>1</th>\n",
       "      <td>0.21</td>\n",
       "      <td>0.28</td>\n",
       "      <td>0.50</td>\n",
       "      <td>0.0</td>\n",
       "      <td>0.14</td>\n",
       "      <td>0.28</td>\n",
       "      <td>0.21</td>\n",
       "      <td>0.07</td>\n",
       "      <td>0.00</td>\n",
       "      <td>0.94</td>\n",
       "      <td>...</td>\n",
       "      <td>0.00</td>\n",
       "      <td>0.132</td>\n",
       "      <td>0.0</td>\n",
       "      <td>0.372</td>\n",
       "      <td>0.180</td>\n",
       "      <td>0.048</td>\n",
       "      <td>5.114</td>\n",
       "      <td>101</td>\n",
       "      <td>1028</td>\n",
       "      <td>1</td>\n",
       "    </tr>\n",
       "    <tr>\n",
       "      <th>2</th>\n",
       "      <td>0.06</td>\n",
       "      <td>0.00</td>\n",
       "      <td>0.71</td>\n",
       "      <td>0.0</td>\n",
       "      <td>1.23</td>\n",
       "      <td>0.19</td>\n",
       "      <td>0.19</td>\n",
       "      <td>0.12</td>\n",
       "      <td>0.64</td>\n",
       "      <td>0.25</td>\n",
       "      <td>...</td>\n",
       "      <td>0.01</td>\n",
       "      <td>0.143</td>\n",
       "      <td>0.0</td>\n",
       "      <td>0.276</td>\n",
       "      <td>0.184</td>\n",
       "      <td>0.010</td>\n",
       "      <td>9.821</td>\n",
       "      <td>485</td>\n",
       "      <td>2259</td>\n",
       "      <td>1</td>\n",
       "    </tr>\n",
       "    <tr>\n",
       "      <th>3</th>\n",
       "      <td>0.00</td>\n",
       "      <td>0.00</td>\n",
       "      <td>0.00</td>\n",
       "      <td>0.0</td>\n",
       "      <td>0.63</td>\n",
       "      <td>0.00</td>\n",
       "      <td>0.31</td>\n",
       "      <td>0.63</td>\n",
       "      <td>0.31</td>\n",
       "      <td>0.63</td>\n",
       "      <td>...</td>\n",
       "      <td>0.00</td>\n",
       "      <td>0.137</td>\n",
       "      <td>0.0</td>\n",
       "      <td>0.137</td>\n",
       "      <td>0.000</td>\n",
       "      <td>0.000</td>\n",
       "      <td>3.537</td>\n",
       "      <td>40</td>\n",
       "      <td>191</td>\n",
       "      <td>1</td>\n",
       "    </tr>\n",
       "    <tr>\n",
       "      <th>4</th>\n",
       "      <td>0.00</td>\n",
       "      <td>0.00</td>\n",
       "      <td>0.00</td>\n",
       "      <td>0.0</td>\n",
       "      <td>0.63</td>\n",
       "      <td>0.00</td>\n",
       "      <td>0.31</td>\n",
       "      <td>0.63</td>\n",
       "      <td>0.31</td>\n",
       "      <td>0.63</td>\n",
       "      <td>...</td>\n",
       "      <td>0.00</td>\n",
       "      <td>0.135</td>\n",
       "      <td>0.0</td>\n",
       "      <td>0.135</td>\n",
       "      <td>0.000</td>\n",
       "      <td>0.000</td>\n",
       "      <td>3.537</td>\n",
       "      <td>40</td>\n",
       "      <td>191</td>\n",
       "      <td>1</td>\n",
       "    </tr>\n",
       "  </tbody>\n",
       "</table>\n",
       "<p>5 rows × 58 columns</p>\n",
       "</div>"
      ],
      "text/plain": [
       "     0     1     2    3     4     5     6     7     8     9   ...    48  \\\n",
       "0  0.00  0.64  0.64  0.0  0.32  0.00  0.00  0.00  0.00  0.00  ...  0.00   \n",
       "1  0.21  0.28  0.50  0.0  0.14  0.28  0.21  0.07  0.00  0.94  ...  0.00   \n",
       "2  0.06  0.00  0.71  0.0  1.23  0.19  0.19  0.12  0.64  0.25  ...  0.01   \n",
       "3  0.00  0.00  0.00  0.0  0.63  0.00  0.31  0.63  0.31  0.63  ...  0.00   \n",
       "4  0.00  0.00  0.00  0.0  0.63  0.00  0.31  0.63  0.31  0.63  ...  0.00   \n",
       "\n",
       "      49   50     51     52     53     54   55    56  57  \n",
       "0  0.000  0.0  0.778  0.000  0.000  3.756   61   278   1  \n",
       "1  0.132  0.0  0.372  0.180  0.048  5.114  101  1028   1  \n",
       "2  0.143  0.0  0.276  0.184  0.010  9.821  485  2259   1  \n",
       "3  0.137  0.0  0.137  0.000  0.000  3.537   40   191   1  \n",
       "4  0.135  0.0  0.135  0.000  0.000  3.537   40   191   1  \n",
       "\n",
       "[5 rows x 58 columns]"
      ]
     },
     "execution_count": 106,
     "metadata": {},
     "output_type": "execute_result"
    }
   ],
   "source": [
    "import pandas as pd\n",
    "df = pd.read_csv('spambase_data.csv',header =None)\n",
    "df.head() # used to display top 5 rows"
   ]
  },
  {
   "cell_type": "markdown",
   "metadata": {},
   "source": [
    "### Train and Test Split"
   ]
  },
  {
   "cell_type": "code",
   "execution_count": 107,
   "metadata": {},
   "outputs": [],
   "source": [
    "X = df[df.columns[:-1]] # Selecting the independent variables\n",
    "Y=df[df.columns[len(df.columns)-1]] # selecting only the target lableled column"
   ]
  },
  {
   "cell_type": "markdown",
   "metadata": {},
   "source": [
    "#### Obtain X_train, X_test, Y_train, Y_test by splitting the dataset into 70-30 ratio with a random state value 30.\n",
    "\n",
    "Note: random_state is used to control the shuffling in the split of the dataset.\n",
    "\n",
    "This method is called the Hold Out Method."
   ]
  },
  {
   "cell_type": "code",
   "execution_count": 108,
   "metadata": {},
   "outputs": [],
   "source": [
    "from sklearn.model_selection import train_test_split\n",
    "X_train, X_test, Y_train, Y_test = train_test_split(X, Y, test_size=0.30, random_state = 30)"
   ]
  },
  {
   "cell_type": "markdown",
   "metadata": {},
   "source": [
    "### Import the k-NN Classifier library"
   ]
  },
  {
   "cell_type": "code",
   "execution_count": 109,
   "metadata": {},
   "outputs": [],
   "source": [
    "from sklearn.neighbors import KNeighborsClassifier"
   ]
  },
  {
   "cell_type": "markdown",
   "metadata": {},
   "source": [
    "### Train 3-NN by using euclidean distance as distance measure"
   ]
  },
  {
   "cell_type": "code",
   "execution_count": 110,
   "metadata": {},
   "outputs": [
    {
     "data": {
      "text/plain": [
       "KNeighborsClassifier(algorithm='auto', leaf_size=30, metric='euclidean',\n",
       "           metric_params=None, n_jobs=None, n_neighbors=3, p=2,\n",
       "           weights='uniform')"
      ]
     },
     "execution_count": 110,
     "metadata": {},
     "output_type": "execute_result"
    }
   ],
   "source": [
    "knn=KNeighborsClassifier(n_neighbors=3, metric='euclidean')\n",
    "knn.fit(X_train, Y_train)"
   ]
  },
  {
   "cell_type": "markdown",
   "metadata": {},
   "source": [
    "### Prediction and Evaluation"
   ]
  },
  {
   "cell_type": "code",
   "execution_count": 111,
   "metadata": {},
   "outputs": [],
   "source": [
    "from sklearn.metrics import classification_report,confusion_matrix\n",
    "from sklearn.metrics import accuracy_score"
   ]
  },
  {
   "cell_type": "code",
   "execution_count": 112,
   "metadata": {},
   "outputs": [],
   "source": [
    "predictions = knn.predict(X_test)"
   ]
  },
  {
   "cell_type": "code",
   "execution_count": 113,
   "metadata": {},
   "outputs": [
    {
     "name": "stdout",
     "output_type": "stream",
     "text": [
      "              precision    recall  f1-score   support\n",
      "\n",
      "           0       0.83      0.85      0.84       863\n",
      "           1       0.74      0.72      0.73       518\n",
      "\n",
      "   micro avg       0.80      0.80      0.80      1381\n",
      "   macro avg       0.79      0.78      0.78      1381\n",
      "weighted avg       0.80      0.80      0.80      1381\n",
      "\n",
      "Confusion Matrix\n",
      "[[730 133]\n",
      " [145 373]]\n",
      "\n",
      " Accuracy\n",
      "0.7986965966690803\n"
     ]
    }
   ],
   "source": [
    "print(classification_report(Y_test,predictions))\n",
    "print(\"Confusion Matrix\")\n",
    "print(confusion_matrix(Y_test,predictions))\n",
    "print(\"\\n Accuracy\")\n",
    "print(accuracy_score(Y_test,predictions))"
   ]
  },
  {
   "cell_type": "markdown",
   "metadata": {},
   "source": [
    "###  k (5)- fold method for training and testing split and check the difference in performance of 3-NN "
   ]
  },
  {
   "cell_type": "code",
   "execution_count": 114,
   "metadata": {},
   "outputs": [
    {
     "name": "stdout",
     "output_type": "stream",
     "text": [
      "scores:  [0.77090119 0.78610206 0.82410423 0.80631121 0.69423286]\n",
      "mean score:  0.7763303122995183\n"
     ]
    }
   ],
   "source": [
    "from sklearn.model_selection import cross_val_score\n",
    "knn_cv = KNeighborsClassifier(n_neighbors=3, metric = 'euclidean')\n",
    "scores = cross_val_score(knn_cv, X, Y, cv=5, scoring='accuracy')\n",
    "print('scores: ', scores)\n",
    "print('mean score: ', scores.mean())"
   ]
  },
  {
   "cell_type": "markdown",
   "metadata": {},
   "source": [
    "#### Q1: Normalize the dataset and apply 3-NN using both euclidean and manhattan distance"
   ]
  },
  {
   "cell_type": "code",
   "execution_count": 115,
   "metadata": {},
   "outputs": [
    {
     "name": "stdout",
     "output_type": "stream",
     "text": [
      "scores:  [0.8534202  0.88707926 0.90662324 0.90424374 0.73884657]\n",
      "mean score:  0.858042601657138\n",
      "scores:  [0.86536374 0.90445168 0.90988056 0.89445049 0.7508161 ]\n",
      "mean score:  0.8649925153503254\n"
     ]
    }
   ],
   "source": [
    "from sklearn import preprocessing\n",
    "#names=df.columns\n",
    "#df1 = preprocessing.normalize(df, axis=0)\n",
    "#normal_df = pd.DataFrame(df1,columns=names)\n",
    "#normal_df.head()\n",
    "\n",
    "df1=(df-df.min())/(df.max()-df.min())   #using min-max normalization\n",
    "\n",
    "\n",
    "X1 = df1[df1.columns[:-1]] # Selecting the independent variables\n",
    "Y1= df1[df1.columns[len(df1.columns)-1]] # selecting only the target lableled column\n",
    "\n",
    "from sklearn.model_selection import cross_val_score\n",
    "knn_cv = KNeighborsClassifier(n_neighbors=3, metric = 'euclidean')\n",
    "scores = cross_val_score(knn_cv, X1, Y1, cv=5, scoring='accuracy')\n",
    "print('scores: ', scores)\n",
    "print('mean score: ', scores.mean())\n",
    "\n",
    "from sklearn.model_selection import cross_val_score\n",
    "knn_cv = KNeighborsClassifier(n_neighbors=3, metric = 'manhattan')\n",
    "scores = cross_val_score(knn_cv, X1, Y1, cv=5, scoring='accuracy')\n",
    "print('scores: ', scores)\n",
    "print('mean score: ', scores.mean())\n"
   ]
  },
  {
   "cell_type": "markdown",
   "metadata": {},
   "source": [
    "#### Q2: Write your observation regarding change in the perfromance of KNN"
   ]
  },
  {
   "cell_type": "markdown",
   "metadata": {},
   "source": [
    "KNN implemented using Manhattan distance metric gives better mean score than \n",
    "the KNN implemented using Euclidean distance metric.\n",
    "KNN using Manhattan gives mean score:  0.8649925153503254\n",
    "KNN using Euclidean gives mean score:  0.858042601657138\n"
   ]
  },
  {
   "cell_type": "markdown",
   "metadata": {},
   "source": [
    "#### Q3: Find the accuracy of 1-NN model (using euclidean distance)"
   ]
  },
  {
   "cell_type": "code",
   "execution_count": 117,
   "metadata": {},
   "outputs": [
    {
     "name": "stdout",
     "output_type": "stream",
     "text": [
      "scores:  [0.86536374 0.89250814 0.91313789 0.90642002 0.74972797]\n",
      "mean score:  0.86543155178586\n"
     ]
    }
   ],
   "source": [
    "#### Code here ####\n",
    "\n",
    "from sklearn.model_selection import cross_val_score\n",
    "knn_cv = KNeighborsClassifier(n_neighbors=1, metric = 'euclidean')\n",
    "scores = cross_val_score(knn_cv, X1, Y1, cv=5, scoring='accuracy')\n",
    "print('scores: ', scores)\n",
    "print('mean score: ', scores.mean())\n"
   ]
  },
  {
   "cell_type": "markdown",
   "metadata": {},
   "source": [
    "#### Q4: Find the accuracy of the models by taking k from 1 to 20. (Using euclidean distance and k(5)-fold method for train-test split)"
   ]
  },
  {
   "cell_type": "code",
   "execution_count": 118,
   "metadata": {},
   "outputs": [
    {
     "name": "stdout",
     "output_type": "stream",
     "text": [
      "scores:  [0.86536374 0.89250814 0.91313789 0.90642002 0.74972797]\n",
      "mean score:  0.86543155178586\n",
      "scores:  [0.84256243 0.88816504 0.91422367 0.88139282 0.78454842]\n",
      "mean score:  0.8621784761087856\n",
      "scores:  [0.8534202  0.88707926 0.90662324 0.90424374 0.73884657]\n",
      "mean score:  0.858042601657138\n",
      "scores:  [0.85233442 0.88599349 0.90879479 0.89445049 0.77584331]\n",
      "mean score:  0.8634832980662784\n",
      "scores:  [0.86536374 0.89142237 0.91205212 0.89880305 0.75408052]\n",
      "mean score:  0.8643443576847327\n",
      "scores:  [0.84690554 0.88490771 0.91422367 0.88792165 0.77366703]\n",
      "mean score:  0.8615251199493382\n",
      "scores:  [0.86102063 0.88707926 0.91965255 0.90206746 0.76060936]\n",
      "mean score:  0.8660858531260078\n",
      "scores:  [0.85559175 0.88273616 0.91205212 0.90206746 0.76605005]\n",
      "mean score:  0.8636995081515927\n",
      "scores:  [0.85559175 0.88816504 0.91530945 0.90206746 0.7616975 ]\n",
      "mean score:  0.8645662388542519\n",
      "scores:  [0.85233442 0.87947883 0.91313789 0.90533188 0.77040261]\n",
      "mean score:  0.864137126816076\n",
      "scores:  [0.85559175 0.88599349 0.91639522 0.90533188 0.75516866]\n",
      "mean score:  0.8636962000191399\n",
      "scores:  [0.84364821 0.8805646  0.90770901 0.90750816 0.77040261]\n",
      "mean score:  0.8619665193366248\n",
      "scores:  [0.84581976 0.88382193 0.91422367 0.90424374 0.76060936]\n",
      "mean score:  0.8617436929864046\n",
      "scores:  [0.85124864 0.87947883 0.90662324 0.89662677 0.77040261]\n",
      "mean score:  0.8608760171030447\n",
      "scores:  [0.84473398 0.88273616 0.90445168 0.90097933 0.76387378]\n",
      "mean score:  0.8593549850602376\n",
      "scores:  [0.84147666 0.88382193 0.89685125 0.89227421 0.76060936]\n",
      "mean score:  0.8550066812460789\n",
      "scores:  [0.84473398 0.87513572 0.8990228  0.89880305 0.7562568 ]\n",
      "mean score:  0.8547904711607647\n",
      "scores:  [0.83821933 0.86862106 0.89685125 0.90206746 0.76496192]\n",
      "mean score:  0.8541442038565735\n",
      "scores:  [0.84690554 0.86862106 0.90336591 0.90206746 0.7616975 ]\n",
      "mean score:  0.8565314940116895\n",
      "scores:  [0.8393051  0.86644951 0.8990228  0.89553863 0.76060936]\n",
      "mean score:  0.8521850805589326\n"
     ]
    }
   ],
   "source": [
    "#### Code here ###\n",
    "count=0\n",
    "kno=[]\n",
    "kscores=[]\n",
    "for i in range(1,21):\n",
    "    knn_cv = KNeighborsClassifier(n_neighbors=i, metric = 'euclidean')\n",
    "    scores = cross_val_score(knn_cv, X1, Y1, cv=5, scoring='accuracy')\n",
    "    print('scores: ', scores)\n",
    "    print('mean score: ', scores.mean())\n",
    "    kscores.append(scores.mean())\n",
    "    kno.append(i)\n",
    "    count=count+1\n",
    "    \n"
   ]
  },
  {
   "cell_type": "markdown",
   "metadata": {},
   "source": [
    "#### Q5: Plot the graph between k and the accuracy score and find the best value of k"
   ]
  },
  {
   "cell_type": "code",
   "execution_count": 119,
   "metadata": {},
   "outputs": [
    {
     "data": {
      "image/png": "[encoded data removed]",
      "text/plain": [
       "<Figure size 432x288 with 1 Axes>"
      ]
     },
     "metadata": {
      "needs_background": "light"
     },
     "output_type": "display_data"
    },
    {
     "name": "stdout",
     "output_type": "stream",
     "text": [
      "Best value of k  =  7\n",
      "max score  =  0.8660858531260078\n"
     ]
    }
   ],
   "source": [
    "#### Write your answer here ####\n",
    "import numpy as np\n",
    "import matplotlib.pyplot as plt\n",
    "plt.title('k-NN: Varying Number of Neighbors')\n",
    "plt.plot(kno, kscores, label = 'Testing Accuracy')\n",
    "#plt.plot(no_neighbors, train_accuracy, label = 'Training Accuracy')\n",
    "plt.legend()\n",
    "plt.xlabel('Number of Neighbors')\n",
    "plt.ylabel('Accuracy')\n",
    "plt.show()\n",
    "index = kscores.index(max(kscores))+1\n",
    "print(\"Best value of k  = \",index)\n",
    "print(\"max score  = \",max(kscores))"
   ]
  },
  {
   "cell_type": "markdown",
   "metadata": {},
   "source": [
    "#### Q6: Find the accuracy of the models by taking k from 1 to 20. (Using manhattan distance  k(5)-fold method for train-test split)"
   ]
  },
  {
   "cell_type": "code",
   "execution_count": 120,
   "metadata": {},
   "outputs": [
    {
     "name": "stdout",
     "output_type": "stream",
     "text": [
      "scores:  [0.86862106 0.8946797  0.91205212 0.89662677 0.7562568 ]\n",
      "mean score:  0.8656472892808239\n",
      "scores:  [0.85016287 0.88816504 0.90119435 0.87377584 0.81501632]\n",
      "mean score:  0.8656628847623875\n",
      "scores:  [0.86536374 0.90445168 0.90988056 0.89445049 0.7508161 ]\n",
      "mean score:  0.8649925153503254\n",
      "scores:  [0.86102063 0.89033659 0.91096634 0.87704026 0.79325354]\n",
      "mean score:  0.8665234717904913\n",
      "scores:  [0.87187839 0.90010858 0.92290988 0.90097933 0.76605005]\n",
      "mean score:  0.8723852462018504\n",
      "scores:  [0.85450597 0.89033659 0.9218241  0.89336235 0.78781284]\n",
      "mean score:  0.8695683714182081\n",
      "scores:  [0.86753529 0.90119435 0.92725299 0.89989119 0.77366703]\n",
      "mean score:  0.8739081686060594\n",
      "scores:  [0.85450597 0.88707926 0.91856678 0.89118607 0.80304679]\n",
      "mean score:  0.8708769740985043\n",
      "scores:  [0.86319218 0.89250814 0.92942454 0.9031556  0.79651795]\n",
      "mean score:  0.876959684498682\n",
      "scores:  [0.85993485 0.88707926 0.92073833 0.88574538 0.80739935]\n",
      "mean score:  0.8721794331042452\n",
      "scores:  [0.86536374 0.89033659 0.92399566 0.89880305 0.80413493]\n",
      "mean score:  0.8765267917377029\n",
      "scores:  [0.85233442 0.88165038 0.91639522 0.88900979 0.80957563]\n",
      "mean score:  0.8697930881298299\n",
      "scores:  [0.86210641 0.88816504 0.92073833 0.89771491 0.81066376]\n",
      "mean score:  0.8758776888914094\n",
      "scores:  [0.85124864 0.87839305 0.91205212 0.89336235 0.80631121]\n",
      "mean score:  0.868273473858074\n",
      "scores:  [0.8577633  0.88165038 0.91965255 0.89989119 0.80195865]\n",
      "mean score:  0.8721832138270484\n",
      "scores:  [0.84581976 0.87404995 0.91422367 0.89445049 0.8117519 ]\n",
      "mean score:  0.8680591541341613\n",
      "scores:  [0.85450597 0.88165038 0.91965255 0.90206746 0.81066376]\n",
      "mean score:  0.873708026592659\n",
      "scores:  [0.85233442 0.87187839 0.91096634 0.88900979 0.81066376]\n",
      "mean score:  0.8669705422619828\n",
      "scores:  [0.8577633  0.87839305 0.91422367 0.90097933 0.80631121]\n",
      "mean score:  0.8715341109807551\n",
      "scores:  [0.84799131 0.87404995 0.90553746 0.89118607 0.80739935]\n",
      "mean score:  0.8652328275435108\n"
     ]
    }
   ],
   "source": [
    "#### Code here ####\n",
    "kno1=[]\n",
    "kscores1=[]\n",
    "for i in range(1,21):\n",
    "    knn_cv = KNeighborsClassifier(n_neighbors=i, metric = 'manhattan')\n",
    "    scores = cross_val_score(knn_cv, X1, Y1, cv=5, scoring='accuracy')\n",
    "    print('scores: ', scores)\n",
    "    print('mean score: ', scores.mean())\n",
    "    kscores1.append(scores.mean())\n",
    "    kno1.append(i)\n",
    "    \n",
    "    "
   ]
  },
  {
   "cell_type": "markdown",
   "metadata": {},
   "source": [
    "#### Q7:  Plot the graph between k and the accuracy score and find the best value of k"
   ]
  },
  {
   "cell_type": "code",
   "execution_count": 121,
   "metadata": {},
   "outputs": [
    {
     "data": {
      "image/png": "[encoded data removed]",
      "text/plain": [
       "<Figure size 432x288 with 1 Axes>"
      ]
     },
     "metadata": {
      "needs_background": "light"
     },
     "output_type": "display_data"
    },
    {
     "name": "stdout",
     "output_type": "stream",
     "text": [
      "Best value of k  =  9\n",
      "max score  =  0.876959684498682\n"
     ]
    }
   ],
   "source": [
    "#### Write your answer here ####\n",
    "import numpy as np\n",
    "import matplotlib.pyplot as plt\n",
    "plt.title('k-NN: Varying Number of Neighbors')\n",
    "plt.plot(kno1, kscores1, label = 'Testing Accuracy')\n",
    "#plt.plot(no_neighbors, train_accuracy, label = 'Training Accuracy')\n",
    "plt.legend()\n",
    "plt.xlabel('Number of Neighbors')\n",
    "plt.ylabel('Accuracy')\n",
    "plt.show()\n",
    "index = kscores1.index(max(kscores1))+1\n",
    "print(\"Best value of k  = \",index)\n",
    "print(\"max score  = \",max(kscores1))"
   ]
  },
  {
   "cell_type": "markdown",
   "metadata": {},
   "source": [
    "#### Q8: Write your observation"
   ]
  },
  {
   "cell_type": "code",
   "execution_count": null,
   "metadata": {},
   "outputs": [],
   "source": [
    "#### Code here ####\n",
    "\n",
    "KNN gives best vale of K is 9 as gives best accuracy at k=9 when it is using manhattan distance metric and \n",
    "KNN gives best vale of K is 7 as gives best accuracy at k=7 when it is using euclidean distance metric."
   ]
  },
  {
   "cell_type": "markdown",
   "metadata": {},
   "source": [
    "#### Q9: Implement the weighted k-NN model. Use k(5)-fold method for train-test split"
   ]
  },
  {
   "cell_type": "code",
   "execution_count": 127,
   "metadata": {},
   "outputs": [
    {
     "name": "stdout",
     "output_type": "stream",
     "text": [
      "scores:  [0.86210641 0.89033659 0.90988056 0.90968444 0.74319913]\n",
      "mean score:  0.8630414260886413\n"
     ]
    }
   ],
   "source": [
    "#### Code here ####\n",
    "from sklearn.model_selection import cross_val_score\n",
    "knn_cv = KNeighborsClassifier(n_neighbors=3,weights='distance')\n",
    "scores = cross_val_score(knn_cv, X1, Y1, cv=5, scoring='accuracy')\n",
    "print('scores: ', scores)\n",
    "print('mean score: ', scores.mean())"
   ]
  },
  {
   "cell_type": "markdown",
   "metadata": {},
   "source": [
    "#### Q10: What is the best k value in this model. Take max k =20"
   ]
  },
  {
   "cell_type": "code",
   "execution_count": 128,
   "metadata": {},
   "outputs": [
    {
     "name": "stdout",
     "output_type": "stream",
     "text": [
      "scores:  [0.86536374 0.89250814 0.91313789 0.90642002 0.74972797]\n",
      "mean score:  0.86543155178586\n",
      "scores:  [0.86536374 0.89250814 0.91313789 0.90642002 0.74972797]\n",
      "mean score:  0.86543155178586\n",
      "scores:  [0.86210641 0.89033659 0.90988056 0.90968444 0.74319913]\n",
      "mean score:  0.8630414260886413\n",
      "scores:  [0.86319218 0.89359392 0.91639522 0.91730141 0.7562568 ]\n",
      "mean score:  0.86934790801974\n",
      "scores:  [0.8762215  0.89250814 0.917481   0.90968444 0.76278564]\n",
      "mean score:  0.8717361433555568\n",
      "scores:  [0.87947883 0.89576547 0.9218241  0.914037   0.77040261]\n",
      "mean score:  0.8763016024357306\n",
      "scores:  [0.87513572 0.8946797  0.92833876 0.914037   0.77475517]\n",
      "mean score:  0.8773892691272083\n",
      "scores:  [0.86970684 0.89685125 0.92508143 0.914037   0.76713819]\n",
      "mean score:  0.8745629425365579\n",
      "scores:  [0.87187839 0.89793702 0.92399566 0.91077258 0.77366703]\n",
      "mean score:  0.8756501366376851\n",
      "scores:  [0.86862106 0.8946797  0.92508143 0.914037   0.76822633]\n",
      "mean score:  0.8741291045948778\n",
      "scores:  [0.86970684 0.89250814 0.92508143 0.91512514 0.76713819]\n",
      "mean score:  0.8739119493288626\n",
      "scores:  [0.86319218 0.89359392 0.9218241  0.91838955 0.77475517]\n",
      "mean score:  0.8743509857643972\n",
      "scores:  [0.86427796 0.89142237 0.92616721 0.91838955 0.77149075]\n",
      "mean score:  0.874349567993346\n",
      "scores:  [0.87296417 0.89359392 0.91965255 0.91838955 0.77475517]\n",
      "mean score:  0.8758710726265037\n",
      "scores:  [0.86644951 0.8946797  0.91639522 0.91621328 0.77584331]\n",
      "mean score:  0.8739162026420164\n",
      "scores:  [0.86862106 0.8990228  0.92073833 0.91947769 0.77584331]\n",
      "mean score:  0.8767406388712653\n",
      "scores:  [0.86427796 0.89685125 0.91965255 0.91621328 0.76931447]\n",
      "mean score:  0.8732619013018683\n",
      "scores:  [0.86753529 0.90119435 0.91965255 0.92383025 0.77366703]\n",
      "mean score:  0.8771758945839965\n",
      "scores:  [0.87296417 0.89576547 0.92290988 0.92056583 0.77584331]\n",
      "mean score:  0.8776097325256764\n",
      "scores:  [0.87296417 0.89685125 0.92073833 0.92383025 0.77366703]\n",
      "mean score:  0.8776102051160268\n",
      "Best value of k  =  20\n",
      "max score  =  0.8776102051160268\n"
     ]
    }
   ],
   "source": [
    "#### Write your answer here ####\n",
    "kno2=[]\n",
    "kscores2=[]\n",
    "for i in range(1,21):\n",
    "    knn_cv = KNeighborsClassifier(n_neighbors=i,weights='distance')\n",
    "    scores = cross_val_score(knn_cv, X1, Y1, cv=5, scoring='accuracy')\n",
    "    print('scores: ', scores)\n",
    "    print('mean score: ', scores.mean())\n",
    "    kscores2.append(scores.mean())\n",
    "    kno2.append(i)\n",
    "    \n",
    "index = kscores2.index(max(kscores2))+1\n",
    "print(\"Best value of k  = \",index)\n",
    "print(\"max score  = \",max(kscores2))"
   ]
  },
  {
   "cell_type": "code",
   "execution_count": null,
   "metadata": {},
   "outputs": [],
   "source": []
  }
 ],
 "metadata": {
  "kernelspec": {
   "display_name": "Python 3",
   "language": "python",
   "name": "python3"
  },
  "language_info": {
   "codemirror_mode": {
    "name": "ipython",
    "version": 3
   },
   "file_extension": ".py",
   "mimetype": "text/x-python",
   "name": "python",
   "nbconvert_exporter": "python",
   "pygments_lexer": "ipython3",
   "version": "3.7.3"
  }
 },
 "nbformat": 4,
 "nbformat_minor": 2
}
